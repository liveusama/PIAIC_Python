{
 "cells": [
  {
   "cell_type": "markdown",
   "metadata": {},
   "source": [
    "## ALL LIST FUNCTION and OPerations"
   ]
  },
  {
   "cell_type": "code",
   "execution_count": null,
   "metadata": {},
   "outputs": [],
   "source": []
  },
  {
   "cell_type": "code",
   "execution_count": 52,
   "metadata": {},
   "outputs": [
    {
     "name": "stdout",
     "output_type": "stream",
     "text": [
      "[0, 1, 2, 3, 4, 5, 6, 7, 8, 9]\n",
      "[-10, -8, -6, -4, -2, 0, 2, 4, 6, 8]\n",
      "[[0, 0], [1, 1], [4, 8], [9, 27]]\n"
     ]
    }
   ],
   "source": [
    "x = range(10)\n",
    "print(list(x))\n",
    "print(list(range(-10,10,2)))\n",
    "print([[x ** 2, x ** 3] for x in range(4)])"
   ]
  },
  {
   "cell_type": "code",
   "execution_count": 32,
   "metadata": {},
   "outputs": [],
   "source": [
    "x, y = [1,2,3,4,5], [6,7,8,9,10]\n",
    "\n"
   ]
  },
  {
   "cell_type": "code",
   "execution_count": 34,
   "metadata": {},
   "outputs": [
    {
     "name": "stdout",
     "output_type": "stream",
     "text": [
      "[1, 2, 3, 4, 5, 6, 7, 8, 9, 10, 6, 7, 8, 9, 10]\n",
      "[1, 2, 3, 4, 5, 6, 7, 8, 9, 10, 6, 7, 8, 9, 10, 6, 7, 8, 9, 10]\n",
      "Lenght of z = 20\n",
      "MAX of z = 10\n",
      "MIN of z = 1\n"
     ]
    }
   ],
   "source": [
    "#concate or extend \n",
    "x.extend(y)\n",
    "print(x)\n",
    "z = x + y\n",
    "print(z)\n",
    "print(\"Lenght of z = \"+str(len(z)))\n",
    "print(\"MAX of z = \"+str(max(z)))\n",
    "print(\"MIN of z = \"+str(min(z)))"
   ]
  },
  {
   "cell_type": "code",
   "execution_count": 29,
   "metadata": {},
   "outputs": [
    {
     "name": "stdout",
     "output_type": "stream",
     "text": [
      "[1, 2, 9]\n",
      "[9, 2, 0]\n",
      "[1, 6, 9]\n"
     ]
    }
   ],
   "source": [
    "# now x is 1, y is 2\n",
    "\n",
    "x, y, z = [1,2,9], [9,2,0], [1,6,9]\n",
    "print(x)\n",
    "print(y)\n",
    "print(z)"
   ]
  },
  {
   "cell_type": "code",
   "execution_count": 16,
   "metadata": {},
   "outputs": [],
   "source": [
    "\n",
    "_, y = [1, 2] "
   ]
  },
  {
   "cell_type": "code",
   "execution_count": 23,
   "metadata": {},
   "outputs": [
    {
     "name": "stdout",
     "output_type": "stream",
     "text": [
      "[8, 9]\n",
      "[6, 7, 8, 9, 10]\n",
      "[6, 7, 8, 9]\n",
      "[7, 8, 9, 10]\n"
     ]
    }
   ],
   "source": [
    "t = [6,7,8,9,10]\n",
    "print(t[2:-1])\n",
    "print(t[:])\n",
    "print(t[:4])\n",
    "print(t[1:])"
   ]
  },
  {
   "cell_type": "code",
   "execution_count": 26,
   "metadata": {},
   "outputs": [
    {
     "name": "stdout",
     "output_type": "stream",
     "text": [
      "False\n",
      "True\n"
     ]
    }
   ],
   "source": [
    "t = [6,7,8,9,10]\n",
    "print(3 in t)\n",
    "print(6 in t)\n",
    "\n"
   ]
  },
  {
   "cell_type": "code",
   "execution_count": 27,
   "metadata": {},
   "outputs": [
    {
     "name": "stdout",
     "output_type": "stream",
     "text": [
      "6\n",
      "7\n",
      "8\n",
      "9\n",
      "10\n"
     ]
    }
   ],
   "source": [
    "for i in t:\n",
    "    print(i)"
   ]
  },
  {
   "cell_type": "code",
   "execution_count": 79,
   "metadata": {},
   "outputs": [
    {
     "name": "stdout",
     "output_type": "stream",
     "text": [
      "['USAMA', 'ALI', 'HAMZA', 'OMER', 'AWAIS', 'SAIQ', 'USS']\n",
      "['USAMA', 'ALI', 'OMER', 'AWAIS', 'SAIQ', 'USS']\n",
      "['USAMA', 'OMER', 'AWAIS', 'SAIQ', 'USS']\n",
      "['USS', 'USAMA', 'SAIQ', 'OMER', 'AWAIS']\n",
      "Sorted\n",
      "['AWAIS', 'OMER', 'SAIQ', 'USAMA', 'USS']\n",
      "['AWAIS', 'OMER', 'SAIQ', 'USAMA', 'USS']\n",
      "['USS', 'USAMA', 'SAIQ', 'OMER', 'AWAIS']\n",
      "['USS', 'USAMA', 'OMER', 'AWAIS']\n"
     ]
    }
   ],
   "source": [
    "Names = [\"USAMA\",\"ALI\",\"HAMZA\",\"OMER\",\"AWAIS\",\"SAIQ\",\"USS\",]\n",
    "print(Names)\n",
    "Names.pop(2)\n",
    "print(Names)\n",
    "Names.remove(\"ALI\")\n",
    "print(Names)\n",
    "#SORTING\n",
    "Names.sort(reverse=True)\n",
    "print(Names)\n",
    "\n",
    "print(\"Sorted\")\n",
    "print(sorted(Names))\n",
    "Names.reverse()\n",
    "print(Names)\n",
    "Names.reverse()\n",
    "print(Names)\n",
    "del Names[2]\n",
    "print(Names)\n",
    "\n"
   ]
  },
  {
   "cell_type": "code",
   "execution_count": 82,
   "metadata": {},
   "outputs": [
    {
     "name": "stdout",
     "output_type": "stream",
     "text": [
      "0\n"
     ]
    }
   ],
   "source": [
    "Namess = [\"USAMA\",\"ALI\",\"HAMZA\",\"OMER\",\"AWAIS\",\"SAIQ\",\"USS\",]\n",
    "print(Namess.index(\"USAMA\"))"
   ]
  },
  {
   "cell_type": "code",
   "execution_count": 38,
   "metadata": {},
   "outputs": [
    {
     "name": "stdout",
     "output_type": "stream",
     "text": [
      "(1, 2, 3, 4, 5, 5, 6, 7)\n",
      "[1, 2, 3, 4, 5, 5, 6, 7]\n",
      "2\n"
     ]
    }
   ],
   "source": [
    "#Python list method list() takes sequence types and converts them to lists\n",
    "tuplee = (1,2,3,4,5,5,6,7)\n",
    "print(tuplee)\n",
    "print(list(tuplee))\n",
    "print(tuplee.count(5))"
   ]
  },
  {
   "cell_type": "code",
   "execution_count": 41,
   "metadata": {},
   "outputs": [],
   "source": [
    "A, B = [[1,2,4],\n",
    "     [4,6,7],\n",
    "     [6,9,0],\n",
    "    ],[\n",
    "    [3,5,6],\n",
    "    [5,6,8],\n",
    "    [6,8,9],\n",
    "]"
   ]
  },
  {
   "cell_type": "code",
   "execution_count": 43,
   "metadata": {},
   "outputs": [
    {
     "name": "stdout",
     "output_type": "stream",
     "text": [
      "[[1, 2, 4], [4, 6, 7], [6, 9, 0]]\n",
      "[[3, 5, 6], [5, 6, 8], [6, 8, 9]]\n"
     ]
    }
   ],
   "source": [
    "print(A)\n",
    "print(B)"
   ]
  },
  {
   "cell_type": "code",
   "execution_count": 44,
   "metadata": {},
   "outputs": [
    {
     "name": "stdout",
     "output_type": "stream",
     "text": [
      "[[1, 2, 4], [4, 6, 7], [6, 9, 0], [3, 5, 6], [5, 6, 8], [6, 8, 9]]\n"
     ]
    }
   ],
   "source": [
    "print(A+B)"
   ]
  },
  {
   "cell_type": "code",
   "execution_count": 56,
   "metadata": {},
   "outputs": [
    {
     "name": "stdout",
     "output_type": "stream",
     "text": [
      "[6, 9, 0]\n",
      "7\n",
      "Diagonal = [1, 6, 0]\n"
     ]
    }
   ],
   "source": [
    "print(A[2])\n",
    "print(A[1][2])\n",
    "print(\"Diagonal = \"+str([A[i][i] for i in [0,1,2]]))"
   ]
  },
  {
   "cell_type": "code",
   "execution_count": 80,
   "metadata": {},
   "outputs": [
    {
     "data": {
      "text/plain": [
       "[]"
      ]
     },
     "execution_count": 80,
     "metadata": {},
     "output_type": "execute_result"
    }
   ],
   "source": [
    "list()"
   ]
  },
  {
   "cell_type": "code",
   "execution_count": null,
   "metadata": {},
   "outputs": [],
   "source": []
  }
 ],
 "metadata": {
  "kernelspec": {
   "display_name": "Python 3",
   "language": "python",
   "name": "python3"
  },
  "language_info": {
   "codemirror_mode": {
    "name": "ipython",
    "version": 3
   },
   "file_extension": ".py",
   "mimetype": "text/x-python",
   "name": "python",
   "nbconvert_exporter": "python",
   "pygments_lexer": "ipython3",
   "version": "3.7.1"
  }
 },
 "nbformat": 4,
 "nbformat_minor": 2
}
