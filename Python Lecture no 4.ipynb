{
 "cells": [
  {
   "cell_type": "markdown",
   "metadata": {},
   "source": [
    "# LECTURE NO 4\n",
    "## PYTHON 12:15 -- 3:15\n",
    "### LIST, TUPLE, LOOP"
   ]
  },
  {
   "cell_type": "markdown",
   "metadata": {},
   "source": [
    "## LIST [  ]"
   ]
  },
  {
   "cell_type": "code",
   "execution_count": null,
   "metadata": {},
   "outputs": [],
   "source": [
    "dir(list)"
   ]
  },
  {
   "cell_type": "code",
   "execution_count": null,
   "metadata": {},
   "outputs": [],
   "source": [
    "help(list)"
   ]
  },
  {
   "cell_type": "code",
   "execution_count": 4,
   "metadata": {},
   "outputs": [],
   "source": [
    "names = [\"A\",\"B\",\"C\"]\n",
    "names.append(34) #Value always add in the last.\n",
    "#click TAB to see other function. \n",
    "#In list we can store hetergenes data\n",
    "#We can Update List but didnot Tuple\n",
    "names.count() #CliCk Shift TAB. for finding more information."
   ]
  },
  {
   "cell_type": "code",
   "execution_count": 5,
   "metadata": {},
   "outputs": [
    {
     "name": "stdout",
     "output_type": "stream",
     "text": [
      "['A', 'B', 'C', 34]\n"
     ]
    }
   ],
   "source": [
    "print(names)"
   ]
  },
  {
   "cell_type": "code",
   "execution_count": 9,
   "metadata": {},
   "outputs": [
    {
     "name": "stdout",
     "output_type": "stream",
     "text": [
      "2\n",
      "[1, 2, 3, 4, 4, 5, 6]\n"
     ]
    }
   ],
   "source": [
    "l = [1,2,3,4]\n",
    "l2 = [4,5,6]\n",
    "\n",
    "print(l.index(3))\n",
    "l.extend(l2)\n",
    "print(l)"
   ]
  },
  {
   "cell_type": "code",
   "execution_count": 11,
   "metadata": {},
   "outputs": [
    {
     "name": "stdout",
     "output_type": "stream",
     "text": [
      "['PAK', 'P', 'A', 'K', 'I']\n"
     ]
    }
   ],
   "source": [
    "h = [\"P\",\"A\",\"K\",\"I\"]\n",
    "h.insert(0,\"PAK\")\n",
    "print(h)\n"
   ]
  },
  {
   "cell_type": "code",
   "execution_count": 15,
   "metadata": {},
   "outputs": [
    {
     "name": "stdout",
     "output_type": "stream",
     "text": [
      "['P', 'A']\n",
      "['I', 'K']\n"
     ]
    }
   ],
   "source": [
    "l = []\n",
    "h = [\"P\",\"A\",\"K\",\"I\"]\n",
    "a = h.pop()\n",
    "l.append(a)\n",
    "a = h.pop() #Delete value from last\n",
    "l.append(a) \n",
    "#RETURN FUNCTION: We can put value of return function to any other varible.\n",
    "print(h)\n",
    "print(l)"
   ]
  },
  {
   "cell_type": "code",
   "execution_count": 19,
   "metadata": {},
   "outputs": [
    {
     "name": "stdout",
     "output_type": "stream",
     "text": [
      "A\n",
      "None\n"
     ]
    }
   ],
   "source": [
    "l1 = [\"P\",\"A\",\"K\",\"I\"]\n",
    "a = l1.pop(l1.index(\"A\")) # It is used when count or index value is given (\"1\")\n",
    "print(a)\n",
    "a = l1.remove(\"K\") # Non Reurn function # it is used when value is given (\"A\")\n",
    "print(a)"
   ]
  },
  {
   "cell_type": "code",
   "execution_count": 23,
   "metadata": {},
   "outputs": [
    {
     "name": "stdout",
     "output_type": "stream",
     "text": [
      "['P', 'A', 'K', 'I']\n",
      "['I', 'K', 'A', 'P']\n",
      "['A', 'I', 'K', 'P']\n",
      "['P', 'K', 'I', 'A']\n"
     ]
    }
   ],
   "source": [
    "l1 = [\"P\",\"A\",\"K\",\"I\"]\n",
    "print(l1)\n",
    "l1.reverse()\n",
    "print(l1)\n",
    "l1.sort()\n",
    "print(l1)\n",
    "l1.sort(reverse=True)\n",
    "print(l1)\n"
   ]
  },
  {
   "cell_type": "code",
   "execution_count": 31,
   "metadata": {},
   "outputs": [
    {
     "name": "stdout",
     "output_type": "stream",
     "text": [
      "['USAMA', 'HAMEED', 'ALI', 'UMER', 'HUMNA', 'faizaN', 'omer']\n"
     ]
    }
   ],
   "source": [
    "List = [\"USAMA\",\"HAMEED\",\"ALI\",\"UMER\",\"HUMNA\"]\n",
    "List.append(\"faizaN\") \n",
    "List.append(\"omer\") \n",
    "print(List)\n"
   ]
  },
  {
   "cell_type": "code",
   "execution_count": 32,
   "metadata": {},
   "outputs": [
    {
     "name": "stdout",
     "output_type": "stream",
     "text": [
      "['faizaN', 'omer']\n"
     ]
    }
   ],
   "source": [
    "List = [\"USAMA\",\"HAMEED\",\"ALI\",\"UMER\",\"HUMNA\"]\n",
    "List.clear()\n",
    "List.append(\"faizaN\") \n",
    "List.append(\"omer\") \n",
    "print(List)"
   ]
  },
  {
   "cell_type": "code",
   "execution_count": 35,
   "metadata": {},
   "outputs": [
    {
     "name": "stdout",
     "output_type": "stream",
     "text": [
      "['USAMA', 'HAMEED', 'ALI', 'UMER', 'HUMNA']\n"
     ]
    }
   ],
   "source": [
    "List = [\"USAMA\",\"HAMEED\",\"ALI\",\"UMER\",\"HUMNA\"]\n",
    "List1 = []\n",
    "List1 = List.copy()\n",
    "print(List1)"
   ]
  },
  {
   "cell_type": "code",
   "execution_count": 39,
   "metadata": {},
   "outputs": [
    {
     "name": "stdout",
     "output_type": "stream",
     "text": [
      "0\n"
     ]
    }
   ],
   "source": [
    "List = [\"USAMA\",\"HAMEED\",\"ALI\",\"USAMA\",\"HUMNA\"]\n",
    "a = List.count(\"US\")\n",
    "print(a)"
   ]
  },
  {
   "cell_type": "code",
   "execution_count": 48,
   "metadata": {},
   "outputs": [
    {
     "name": "stdout",
     "output_type": "stream",
     "text": [
      "['USAMA', 'HAMEED', 'ALI', 'USAMA', 'HUMNA', 'U', 'S', 'A', 'M', 'A']\n",
      "True\n"
     ]
    }
   ],
   "source": [
    "List = [\"USAMA\",\"HAMEED\",\"ALI\",\"USAMA\",\"HUMNA\"]\n",
    "List.extend(\"USAMA\")\n",
    "print(List)\n",
    "print(\"USAMA\" in List)\n"
   ]
  },
  {
   "cell_type": "code",
   "execution_count": 44,
   "metadata": {},
   "outputs": [],
   "source": [
    "List = [\"USAMA\",\"HAMEED\",\"ALI\",\"USAMA\"]\n"
   ]
  },
  {
   "cell_type": "markdown",
   "metadata": {},
   "source": [
    "## TUPLE ()\n",
    "### NOTE: (CAN't Update it's value)\n"
   ]
  },
  {
   "cell_type": "markdown",
   "metadata": {},
   "source": [
    "## LOOP (While, for)"
   ]
  },
  {
   "cell_type": "raw",
   "metadata": {},
   "source": [
    "# counter\n",
    "# Logic\n",
    "# increment / Decrement"
   ]
  },
  {
   "cell_type": "code",
   "execution_count": 51,
   "metadata": {},
   "outputs": [],
   "source": [
    "# While Loop(It work same as if condition)"
   ]
  },
  {
   "cell_type": "code",
   "execution_count": 57,
   "metadata": {},
   "outputs": [
    {
     "name": "stdout",
     "output_type": "stream",
     "text": [
      "1\n",
      "2\n",
      "3\n",
      "4\n",
      "5\n"
     ]
    }
   ],
   "source": [
    "for i in range(1,6):\n",
    "    print(i)"
   ]
  },
  {
   "cell_type": "code",
   "execution_count": 58,
   "metadata": {},
   "outputs": [
    {
     "data": {
      "text/plain": [
       "[1, 2, 3, 4, 5]"
      ]
     },
     "execution_count": 58,
     "metadata": {},
     "output_type": "execute_result"
    }
   ],
   "source": [
    "[i for i in range(1,6)]"
   ]
  },
  {
   "cell_type": "code",
   "execution_count": 66,
   "metadata": {},
   "outputs": [
    {
     "name": "stdout",
     "output_type": "stream",
     "text": [
      "2 x 1 =  2\n",
      "2 x 2 =  4\n",
      "2 x 3 =  6\n",
      "2 x 4 =  8\n",
      "2 x 5 =  10\n",
      "2 x 6 =  12\n",
      "2 x 7 =  14\n",
      "2 x 8 =  16\n",
      "2 x 9 =  18\n",
      "2 x 10 =  20\n"
     ]
    }
   ],
   "source": [
    "for i in range(1,11):\n",
    "    print(\"2 x {} = \".format(i),2*i)"
   ]
  },
  {
   "cell_type": "code",
   "execution_count": 68,
   "metadata": {},
   "outputs": [
    {
     "data": {
      "text/plain": [
       "[2, 4, 6, 8, 10, 12, 14, 16, 18, 20]"
      ]
     },
     "execution_count": 68,
     "metadata": {},
     "output_type": "execute_result"
    }
   ],
   "source": [
    "[2*i for i in range(1,11)]"
   ]
  },
  {
   "cell_type": "code",
   "execution_count": 4,
   "metadata": {},
   "outputs": [
    {
     "name": "stdout",
     "output_type": "stream",
     "text": [
      "Enter Number = 3\n",
      "3 x 1 =  3\n",
      "3 x 2 =  6\n",
      "3 x 3 =  9\n",
      "3 x 4 =  12\n",
      "3 x 5 =  15\n",
      "3 x 6 =  18\n",
      "3 x 7 =  21\n",
      "3 x 8 =  24\n",
      "3 x 9 =  27\n",
      "3 x 10 =  30\n"
     ]
    }
   ],
   "source": [
    "a = int(input(\"Enter Number = \"))\n",
    "for i in range(1,11):\n",
    "    print(\"{} x {} = \".format(a,i),a*i) \n",
    "    \n",
    "    "
   ]
  },
  {
   "cell_type": "code",
   "execution_count": 26,
   "metadata": {},
   "outputs": [
    {
     "name": "stdout",
     "output_type": "stream",
     "text": [
      "Enter Number = 3\n",
      "1 X 1 = 1\t2 X 1 = 2\t3 X 1 = 3\t\n",
      "1 X 2 = 2\t2 X 2 = 4\t3 X 2 = 6\t\n",
      "1 X 3 = 3\t2 X 3 = 6\t3 X 3 = 9\t\n",
      "1 X 4 = 4\t2 X 4 = 8\t3 X 4 = 12\t\n",
      "1 X 5 = 5\t2 X 5 = 10\t3 X 5 = 15\t\n",
      "1 X 6 = 6\t2 X 6 = 12\t3 X 6 = 18\t\n",
      "1 X 7 = 7\t2 X 7 = 14\t3 X 7 = 21\t\n",
      "1 X 8 = 8\t2 X 8 = 16\t3 X 8 = 24\t\n",
      "1 X 9 = 9\t2 X 9 = 18\t3 X 9 = 27\t\n",
      "1 X 10 = 10\t2 X 10 = 20\t3 X 10 = 30\t\n"
     ]
    }
   ],
   "source": [
    "a = int(input(\"Enter Number = \"))\n",
    "for t in range (1,11):\n",
    "    for i in range(1,a+1):\n",
    "        print(f'{i} X {t} = {i*t}', end ='\\t')\n",
    "    print()\n",
    "       "
   ]
  },
  {
   "cell_type": "code",
   "execution_count": 35,
   "metadata": {},
   "outputs": [
    {
     "name": "stdout",
     "output_type": "stream",
     "text": [
      "Enter Number = 2\n",
      "Enter point = 3\n",
      "1 X 1 = 1\t2 X 1 = 2\t\n",
      "1 X 2 = 2\t2 X 2 = 4\t\n"
     ]
    }
   ],
   "source": [
    "a = int(input(\"Enter Number = \"))\n",
    "b = int(input(\"Enter point = \"))\n",
    "for t in range (1,b):\n",
    "    for i in range(1,a+1):\n",
    "        print(f'{i} X {t} = {i*t}', end ='\\t')\n",
    "    print()\n"
   ]
  },
  {
   "cell_type": "code",
   "execution_count": null,
   "metadata": {},
   "outputs": [],
   "source": []
  }
 ],
 "metadata": {
  "kernelspec": {
   "display_name": "Python 3",
   "language": "python",
   "name": "python3"
  },
  "language_info": {
   "codemirror_mode": {
    "name": "ipython",
    "version": 3
   },
   "file_extension": ".py",
   "mimetype": "text/x-python",
   "name": "python",
   "nbconvert_exporter": "python",
   "pygments_lexer": "ipython3",
   "version": "3.7.1"
  }
 },
 "nbformat": 4,
 "nbformat_minor": 2
}
