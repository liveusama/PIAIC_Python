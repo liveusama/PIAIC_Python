{
 "cells": [
  {
   "cell_type": "code",
   "execution_count": null,
   "metadata": {},
   "outputs": [],
   "source": [
    "#______________________________STUDENT 1_______________________LINEAR PROGRAMMING________________________\n",
    "s1name = \"USAMA\"\n",
    "s1Roll = 9090\n",
    "s1Pass = 123\n",
    "\n",
    "def s1login(): pass\n",
    "def s1logout(): pass\n",
    "def s1quiz(): pass\n",
    "\n",
    "\n",
    "\n",
    "s2ame = \"USAMA\"\n",
    "s2oll = 9090\n",
    "s2ass = 123\n",
    "\n",
    "def s2ogin(): pass\n",
    "def s2ogout(): pass\n",
    "def s2uiz(): pass\n"
   ]
  },
  {
   "cell_type": "markdown",
   "metadata": {},
   "source": [
    "## CLASSES"
   ]
  },
  {
   "cell_type": "code",
   "execution_count": 1,
   "metadata": {},
   "outputs": [],
   "source": [
    "class Student(): #class\n",
    "    pass\n",
    "\n",
    "s1 = Student() #Instance/Object  #call default constructor\n"
   ]
  },
  {
   "cell_type": "markdown",
   "metadata": {},
   "source": [
    "## METHOD AND ATTRITUBES"
   ]
  },
  {
   "cell_type": "code",
   "execution_count": 19,
   "metadata": {},
   "outputs": [
    {
     "name": "stdout",
     "output_type": "stream",
     "text": [
      "1\n",
      "2\n"
     ]
    }
   ],
   "source": [
    "class Student():\n",
    "    \n",
    "    counter = 0 #global or Class Varible\n",
    "    \n",
    "    def __init__(self, sid):  #constructor \n",
    "        self.sid = sid # Attritube/ Propertires\n",
    "        self.name = \"\"\n",
    "        self.fname = \"\"\n",
    "        self.DOB = \"\"\n",
    "        \n",
    "    \n",
    "    def login(self, user, fname):\n",
    "        self.name = user\n",
    "        print(\"Welcome HERE\", self.name)\n",
    "    \n",
    "    def logout(self):\n",
    "        print(\"YOU ARE logout\")\n",
    "                                           \n",
    "                                            \n",
    "s1 = Student(1) #firSt time when we made method it we have to write (self) but # when we call in other method we donot need of it.\n",
    "s2 = Student(2)\n",
    "print(s1.sid, s2.sid, sep=\"\\n\")        \n",
    "        "
   ]
  },
  {
   "cell_type": "code",
   "execution_count": 10,
   "metadata": {},
   "outputs": [
    {
     "name": "stdout",
     "output_type": "stream",
     "text": [
      "Welcome HERE Qasim\n"
     ]
    }
   ],
   "source": [
    "s1.login(\"Qasim\",\"USAMA\")"
   ]
  },
  {
   "cell_type": "code",
   "execution_count": 17,
   "metadata": {},
   "outputs": [
    {
     "name": "stdout",
     "output_type": "stream",
     "text": [
      "YOU ARE logout\n"
     ]
    }
   ],
   "source": [
    "s1.logout()"
   ]
  },
  {
   "cell_type": "code",
   "execution_count": 20,
   "metadata": {},
   "outputs": [
    {
     "data": {
      "text/plain": [
       "0"
      ]
     },
     "execution_count": 20,
     "metadata": {},
     "output_type": "execute_result"
    }
   ],
   "source": [
    "Student.counter"
   ]
  },
  {
   "cell_type": "code",
   "execution_count": 22,
   "metadata": {},
   "outputs": [],
   "source": [
    "class Student():\n",
    "    \n",
    "    counter = 0 #global or Class Varible\n",
    "    \n",
    "    def __init__(self, sid):  #constructor \n",
    "        self.sid = sid # Attritube/ Propertires\n",
    "        self.name = \"\"\n",
    "        self.fname = \"\"\n",
    "        self.DOB = \"\"\n",
    "        Student.counter +=1\n",
    "        \n",
    "    \n",
    "    def login(self, user, fname):\n",
    "        self.name = user\n",
    "        print(\"Welcome HERE\", self.name)\n",
    "    \n",
    "    def logout(self):\n",
    "        print(\"YOU ARE logout\")\n",
    "                                           \n",
    "                                            \n",
    "s1 = Student(1) #firSt time when we made method it we have to write (self) but # when we call in other method we donot need of it.\n",
    "s2 = Student(2)\n",
    "     \n",
    "        "
   ]
  },
  {
   "cell_type": "code",
   "execution_count": 24,
   "metadata": {},
   "outputs": [
    {
     "data": {
      "text/plain": [
       "2"
      ]
     },
     "execution_count": 24,
     "metadata": {},
     "output_type": "execute_result"
    }
   ],
   "source": [
    "Student.counter #CALLING with class varaible"
   ]
  },
  {
   "cell_type": "markdown",
   "metadata": {},
   "source": [
    "# Inheritance"
   ]
  },
  {
   "cell_type": "code",
   "execution_count": 28,
   "metadata": {},
   "outputs": [],
   "source": [
    "class Parent():\n",
    "    def __init__(self):\n",
    "        self.name = \"PIN\"\n",
    "        self.id = 0\n",
    "        self.eye_color = \"Brown\"\n",
    "        \n",
    "        def speak(self):\n",
    "            print(\"Parent Speaking.....\")\n",
    "        \n",
    "        def eat(self):\n",
    "            print(\"EATing food....\")\n",
    "\n",
    "class Child(Parent): # PASSING class name as arugment\n",
    "    pass\n",
    "\n",
    "        "
   ]
  },
  {
   "cell_type": "code",
   "execution_count": 41,
   "metadata": {},
   "outputs": [
    {
     "name": "stdout",
     "output_type": "stream",
     "text": [
      "Brown\n",
      "1\n"
     ]
    }
   ],
   "source": [
    "p1 = Parent()\n",
    "print(p1.eye_color)\n",
    "\n",
    "c1  = Child()\n",
    "print(c1.id)\n"
   ]
  },
  {
   "cell_type": "code",
   "execution_count": 39,
   "metadata": {},
   "outputs": [
    {
     "name": "stdout",
     "output_type": "stream",
     "text": [
      "Brown\n",
      "Black\n",
      "Brown\n"
     ]
    }
   ],
   "source": [
    "class father():\n",
    "    def __init__(self):\n",
    "        self.name = \"ADH\"\n",
    "        self.id = 1\n",
    "        self.eye_color = \"Brown\"\n",
    "        \n",
    "        def  education(self):\n",
    "            print(\"M.Sc.....\")\n",
    "        \n",
    "        def  wr(self):\n",
    "            print(\"zzzz.....\")\n",
    "        \n",
    "        def eat(self):\n",
    "            print(\"EATing food....\")\n",
    "\n",
    "class mother():\n",
    "    def __init__(self):\n",
    "        self.name = \"KN\"\n",
    "        self.id = 1\n",
    "        self.eye_color = \"Black\"\n",
    "        \n",
    "        def  www(self):\n",
    "            print(\"wwwwww.....\")\n",
    "        \n",
    "        def  kkkk(self):\n",
    "            print(\"kkkk.....\")\n",
    "        \n",
    "        def eat(self): print(\"EATing food....\")\n",
    "            \n",
    "\n",
    "class Child(father, mother): # PASSING class name as arugment # MUTLIPLE INTERINCE\n",
    "    pass\n",
    "\n",
    "f = father()\n",
    "print(f.eye_color)\n",
    "\n",
    "m = mother()\n",
    "print(m .eye_color)\n",
    "c1  = Child()\n",
    "print(c1.eye_color)\n"
   ]
  },
  {
   "cell_type": "code",
   "execution_count": null,
   "metadata": {},
   "outputs": [],
   "source": []
  },
  {
   "cell_type": "code",
   "execution_count": null,
   "metadata": {},
   "outputs": [],
   "source": []
  },
  {
   "cell_type": "code",
   "execution_count": null,
   "metadata": {},
   "outputs": [],
   "source": []
  },
  {
   "cell_type": "code",
   "execution_count": null,
   "metadata": {},
   "outputs": [],
   "source": []
  },
  {
   "cell_type": "code",
   "execution_count": null,
   "metadata": {},
   "outputs": [],
   "source": []
  },
  {
   "cell_type": "code",
   "execution_count": null,
   "metadata": {},
   "outputs": [],
   "source": []
  },
  {
   "cell_type": "markdown",
   "metadata": {},
   "source": [
    "## Polymorphism"
   ]
  },
  {
   "cell_type": "markdown",
   "metadata": {},
   "source": [
    "## Overloading"
   ]
  },
  {
   "cell_type": "code",
   "execution_count": 45,
   "metadata": {},
   "outputs": [
    {
     "name": "stdout",
     "output_type": "stream",
     "text": [
      "14\n",
      "14.2\n"
     ]
    }
   ],
   "source": [
    "class A():\n",
    "    def abc(self, *n):\n",
    "        print(sum(n))\n",
    "    \n",
    "obj1 = A()\n",
    "obj1.abc(2,3,4,5)\n",
    "obj1.abc(3.8,4.4,6)\n"
   ]
  },
  {
   "cell_type": "markdown",
   "metadata": {},
   "source": [
    "## Over Riding"
   ]
  },
  {
   "cell_type": "code",
   "execution_count": 40,
   "metadata": {},
   "outputs": [
    {
     "name": "stdout",
     "output_type": "stream",
     "text": [
      "BBBB\n",
      "AAAAA\n"
     ]
    }
   ],
   "source": [
    "class A():\n",
    "    def a1(self): print(\"AAAAA\")\n",
    "class B(A):\n",
    "    def a1(self): print(\"BBBB\")\n",
    "obj2 = A()        \n",
    "obj1 = B()\n",
    "obj1.a1()\n",
    "obj2.a1()\n",
    "\n"
   ]
  },
  {
   "cell_type": "markdown",
   "metadata": {},
   "source": [
    "## ENCAPSULATION"
   ]
  },
  {
   "cell_type": "code",
   "execution_count": 2,
   "metadata": {},
   "outputs": [],
   "source": [
    "class A():\n",
    "    def __init__(self, name, age):\n",
    "        self.__sname = name # __ sign use to make private \n",
    "        self .__age = age"
   ]
  },
  {
   "cell_type": "code",
   "execution_count": 3,
   "metadata": {},
   "outputs": [],
   "source": [
    "obj1 = A(\"Asif\", 25)"
   ]
  },
  {
   "cell_type": "code",
   "execution_count": 5,
   "metadata": {},
   "outputs": [
    {
     "ename": "AttributeError",
     "evalue": "'A' object has no attribute '__sname'",
     "output_type": "error",
     "traceback": [
      "\u001b[1;31m---------------------------------------------------------------------------\u001b[0m",
      "\u001b[1;31mAttributeError\u001b[0m                            Traceback (most recent call last)",
      "\u001b[1;32m<ipython-input-5-fa8f2de7df4a>\u001b[0m in \u001b[0;36m<module>\u001b[1;34m\u001b[0m\n\u001b[1;32m----> 1\u001b[1;33m \u001b[0mobj1\u001b[0m\u001b[1;33m.\u001b[0m\u001b[0m__sname\u001b[0m\u001b[1;33m\u001b[0m\u001b[1;33m\u001b[0m\u001b[0m\n\u001b[0m",
      "\u001b[1;31mAttributeError\u001b[0m: 'A' object has no attribute '__sname'"
     ]
    }
   ],
   "source": [
    "obj1.sname"
   ]
  },
  {
   "cell_type": "code",
   "execution_count": 6,
   "metadata": {},
   "outputs": [
    {
     "ename": "AttributeError",
     "evalue": "'A' object has no attribute '__sname'",
     "output_type": "error",
     "traceback": [
      "\u001b[1;31m---------------------------------------------------------------------------\u001b[0m",
      "\u001b[1;31mAttributeError\u001b[0m                            Traceback (most recent call last)",
      "\u001b[1;32m<ipython-input-6-fa8f2de7df4a>\u001b[0m in \u001b[0;36m<module>\u001b[1;34m\u001b[0m\n\u001b[1;32m----> 1\u001b[1;33m \u001b[0mobj1\u001b[0m\u001b[1;33m.\u001b[0m\u001b[0m__sname\u001b[0m\u001b[1;33m\u001b[0m\u001b[1;33m\u001b[0m\u001b[0m\n\u001b[0m",
      "\u001b[1;31mAttributeError\u001b[0m: 'A' object has no attribute '__sname'"
     ]
    }
   ],
   "source": [
    "obj1.__sname"
   ]
  },
  {
   "cell_type": "code",
   "execution_count": 7,
   "metadata": {},
   "outputs": [
    {
     "data": {
      "text/plain": [
       "'Asif'"
      ]
     },
     "execution_count": 7,
     "metadata": {},
     "output_type": "execute_result"
    }
   ],
   "source": [
    "obj1._A__sname #Acess private method or attritube of Class _CLassName__"
   ]
  },
  {
   "cell_type": "code",
   "execution_count": 10,
   "metadata": {},
   "outputs": [],
   "source": [
    "class A():\n",
    "    def __init__(self, name, age):\n",
    "        self.__sname = name # __ sign use to make private attritube\n",
    "        self .__age = age\n",
    "        \n",
    "    def display(self):\n",
    "            print(\"NAME:\", self.__sname)\n",
    "            print(\"AGE:\", self.__age)\n",
    "            \n",
    "    def change(self, a, b):\n",
    "            self.__sname = a\n",
    "            self.__age = b\n",
    "\n",
    "s1 = A(\"Asif\", 30)\n",
    "s2 = A(\"Hamza\", 26)"
   ]
  },
  {
   "cell_type": "code",
   "execution_count": 11,
   "metadata": {},
   "outputs": [
    {
     "name": "stdout",
     "output_type": "stream",
     "text": [
      "NAME: Asif\n",
      "AGE: 30\n"
     ]
    }
   ],
   "source": [
    "s1.display()"
   ]
  },
  {
   "cell_type": "code",
   "execution_count": 12,
   "metadata": {},
   "outputs": [
    {
     "name": "stdout",
     "output_type": "stream",
     "text": [
      "NAME: USAMA\n",
      "AGE: 45\n"
     ]
    }
   ],
   "source": [
    "s2.change(\"USAMA\",45)\n",
    "s2.display()"
   ]
  },
  {
   "cell_type": "code",
   "execution_count": 19,
   "metadata": {},
   "outputs": [
    {
     "name": "stdout",
     "output_type": "stream",
     "text": [
      "NAME: Asif\n",
      "AGE: 30\n",
      "SECURE Code is \n"
     ]
    }
   ],
   "source": [
    "class A():\n",
    "    def __init__(self, name, age):\n",
    "        self.__sname = name # __ sign use to make private attritube\n",
    "        self .__age = age\n",
    "        \n",
    "    def display(self):\n",
    "            print(\"NAME:\", self.__sname)\n",
    "            print(\"AGE:\", self.__age)\n",
    "            self.__abc()\n",
    "            \n",
    "    def change(self, a, b):\n",
    "            self.__sname = a\n",
    "            self.__age = b\n",
    "            \n",
    "    def __abc(self):\n",
    "        print(\"SECURE Code is \")\n",
    "\n",
    "s1 = A(\"Asif\", 30)\n",
    "\n",
    "\n",
    "s1.display()"
   ]
  },
  {
   "cell_type": "markdown",
   "metadata": {},
   "source": [
    "## ABSTRACTION CLASS"
   ]
  },
  {
   "cell_type": "code",
   "execution_count": null,
   "metadata": {},
   "outputs": [],
   "source": [
    "class A:\n",
    "    def __init__(self, name, age):\n",
    "        self.sname = name # __ sign use to make private attritube\n",
    "        self.age = age\n",
    "        \n",
    "    def display(self):\n",
    "            print(\"NAME:\", self.__sname)\n",
    "            print(\"AGE:\", self.__age)\n",
    "            self.__abc()\n",
    "            \n",
    "    def change(self, a, b):\n",
    "            self.__sname = a\n",
    "            self.__age = b\n",
    "            \n",
    "    def __abc(self):\n",
    "        print(\"SECURE Code is \")\n",
    "\n",
    "s1 = A(\"Asif\", 30)\n",
    "\n",
    "\n",
    "s1.display()"
   ]
  },
  {
   "cell_type": "code",
   "execution_count": 25,
   "metadata": {},
   "outputs": [],
   "source": [
    "from abc import ABC, abstractmethod # abc file which have ABC\n",
    "\n",
    "class Human(ABC):  #ABC is use to make parent node\n",
    "    @abstractmethod #decorater use in flask\n",
    "    def __init__(self):\n",
    "        self.name = None\n",
    "        self.age = None\n",
    "    \n",
    "    def eat(self, food):\n",
    "        print(food)\n",
    "\n",
    "class Male(Human):\n",
    "    def __init__(self, n, a):\n",
    "        self.name = n\n",
    "        self.age = a\n",
    "    \n",
    "    "
   ]
  },
  {
   "cell_type": "code",
   "execution_count": 26,
   "metadata": {},
   "outputs": [
    {
     "ename": "TypeError",
     "evalue": "Can't instantiate abstract class Human with abstract methods __init__",
     "output_type": "error",
     "traceback": [
      "\u001b[1;31m---------------------------------------------------------------------------\u001b[0m",
      "\u001b[1;31mTypeError\u001b[0m                                 Traceback (most recent call last)",
      "\u001b[1;32m<ipython-input-26-665979cd1f3c>\u001b[0m in \u001b[0;36m<module>\u001b[1;34m\u001b[0m\n\u001b[1;32m----> 1\u001b[1;33m \u001b[0mh1\u001b[0m \u001b[1;33m=\u001b[0m \u001b[0mHuman\u001b[0m\u001b[1;33m(\u001b[0m\u001b[1;33m)\u001b[0m\u001b[1;33m\u001b[0m\u001b[1;33m\u001b[0m\u001b[0m\n\u001b[0m",
      "\u001b[1;31mTypeError\u001b[0m: Can't instantiate abstract class Human with abstract methods __init__"
     ]
    }
   ],
   "source": [
    "h1 = Human()"
   ]
  },
  {
   "cell_type": "code",
   "execution_count": 27,
   "metadata": {},
   "outputs": [],
   "source": [
    "m1 = Male(\"ALi\",20)"
   ]
  },
  {
   "cell_type": "markdown",
   "metadata": {},
   "source": [
    "## CLASS SHORT TASKS"
   ]
  },
  {
   "cell_type": "code",
   "execution_count": 28,
   "metadata": {},
   "outputs": [],
   "source": [
    "class A():\n",
    "    def __init__(self):\n",
    "        self.name = \"Usama\"\n",
    "        self.sID = 123\n",
    "        self.age = 20\n",
    "\n",
    "class B(A):\n",
    "    pass\n"
   ]
  },
  {
   "cell_type": "code",
   "execution_count": 29,
   "metadata": {},
   "outputs": [
    {
     "name": "stdout",
     "output_type": "stream",
     "text": [
      "Usama\n"
     ]
    }
   ],
   "source": [
    "A1 = A()\n",
    "print(A1.name)"
   ]
  },
  {
   "cell_type": "code",
   "execution_count": 30,
   "metadata": {},
   "outputs": [
    {
     "name": "stdout",
     "output_type": "stream",
     "text": [
      "Usama\n",
      "123\n",
      "20\n"
     ]
    }
   ],
   "source": [
    "B1 = B()\n",
    "print(B1.name)\n",
    "print(B1.sID)\n",
    "print(B1.age)"
   ]
  },
  {
   "cell_type": "code",
   "execution_count": 31,
   "metadata": {},
   "outputs": [],
   "source": [
    "## Polymorfim"
   ]
  },
  {
   "cell_type": "code",
   "execution_count": 39,
   "metadata": {},
   "outputs": [
    {
     "name": "stdout",
     "output_type": "stream",
     "text": [
      "5\n",
      "7.8\n"
     ]
    }
   ],
   "source": [
    "class A():\n",
    "    def abc(self, *n):\n",
    "        print(sum(n))\n",
    "    \n",
    "obj1 = A()\n",
    "obj1.abc(2,3)\n",
    "obj1.abc(3.8,4)\n",
    "    \n"
   ]
  },
  {
   "cell_type": "code",
   "execution_count": 41,
   "metadata": {},
   "outputs": [
    {
     "name": "stdout",
     "output_type": "stream",
     "text": [
      "BBBB\n",
      "AAAAA\n"
     ]
    }
   ],
   "source": [
    "class A():\n",
    "    def a1(self): print(\"AAAAA\")\n",
    "class B(A):\n",
    "    def a1(self): print(\"BBBB\")\n",
    "obj2 = A()        \n",
    "obj1 = B()\n",
    "obj1.a1()\n",
    "obj2.a1()\n"
   ]
  },
  {
   "cell_type": "code",
   "execution_count": 42,
   "metadata": {},
   "outputs": [],
   "source": [
    "class A():\n",
    "    def __init__(self, subject, marks):\n",
    "        self.__subject = subject # __ sign use to make private attritube\n",
    "        self .__marks = marks\n",
    "        \n",
    "    def display(self):\n",
    "            print(\"Subject:\", self.__subject)\n",
    "            print(\"Marks:\", self .__marks)\n",
    "            \n",
    "    def change(self, a, b):\n",
    "            self.__subject = a\n",
    "            self.__marks = b\n",
    "\n",
    "s1 = A(\"Chem\", 30)\n",
    "s2 = A(\"Math\", 26)"
   ]
  },
  {
   "cell_type": "code",
   "execution_count": 43,
   "metadata": {},
   "outputs": [
    {
     "name": "stdout",
     "output_type": "stream",
     "text": [
      "Subject: Chem\n",
      "Marks: 30\n"
     ]
    }
   ],
   "source": [
    "s1.display()"
   ]
  },
  {
   "cell_type": "code",
   "execution_count": 44,
   "metadata": {},
   "outputs": [
    {
     "name": "stdout",
     "output_type": "stream",
     "text": [
      "Subject: Phy\n",
      "Marks: 89\n"
     ]
    }
   ],
   "source": [
    "s2.change(\"Phy\",89)\n",
    "s2.display()"
   ]
  },
  {
   "cell_type": "code",
   "execution_count": 51,
   "metadata": {},
   "outputs": [],
   "source": [
    "from abc import ABC, abstractmethod # abc file which have ABC\n",
    "\n",
    "class Human(ABC):  #ABC is use to make parent node\n",
    "    @abstractmethod #decorater use in flask\n",
    "    def __init__(self):\n",
    "        self.name = None\n",
    "        self.age = None\n",
    "        \n",
    "\n",
    "class women(Human):\n",
    "    def __init__(self, n, a):\n",
    "        self.name = n\n",
    "        self.age = a\n",
    "        \n",
    "    "
   ]
  },
  {
   "cell_type": "code",
   "execution_count": 52,
   "metadata": {},
   "outputs": [],
   "source": [
    "w1 = women(\"humna\",20)"
   ]
  },
  {
   "cell_type": "code",
   "execution_count": null,
   "metadata": {},
   "outputs": [],
   "source": []
  }
 ],
 "metadata": {
  "kernelspec": {
   "display_name": "Python 3",
   "language": "python",
   "name": "python3"
  },
  "language_info": {
   "codemirror_mode": {
    "name": "ipython",
    "version": 3
   },
   "file_extension": ".py",
   "mimetype": "text/x-python",
   "name": "python",
   "nbconvert_exporter": "python",
   "pygments_lexer": "ipython3",
   "version": "3.7.1"
  }
 },
 "nbformat": 4,
 "nbformat_minor": 2
}
