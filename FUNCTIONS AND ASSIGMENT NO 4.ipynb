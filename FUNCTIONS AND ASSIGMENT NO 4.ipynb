{
 "cells": [
  {
   "cell_type": "code",
   "execution_count": 1,
   "metadata": {},
   "outputs": [
    {
     "name": "stdout",
     "output_type": "stream",
     "text": [
      "17\n"
     ]
    }
   ],
   "source": [
    "print(9+8)"
   ]
  },
  {
   "cell_type": "code",
   "execution_count": 6,
   "metadata": {},
   "outputs": [
    {
     "name": "stdout",
     "output_type": "stream",
     "text": [
      "eeee\n"
     ]
    }
   ],
   "source": [
    "def add(a, b):\n",
    "    t = a + b\n",
    "    print(t)\n",
    "\n",
    "var = \"aa\"\n",
    "var = \"ee\"\n",
    "\n",
    "add(var, var)"
   ]
  },
  {
   "cell_type": "code",
   "execution_count": 14,
   "metadata": {},
   "outputs": [
    {
     "name": "stdout",
     "output_type": "stream",
     "text": [
      "{8: 9}\n"
     ]
    }
   ],
   "source": [
    "'''Code a function that has three parameters. \n",
    "The first argument is the name of a dictionary.\n",
    "The second and third arguments are a key and a value.\n",
    "The function adds the key and value to the dictionary. Make everything up.'''\n",
    "\n",
    "def add_to_dict(dict, key, value):\n",
    "  dict[key] = value\n",
    "  print(dict)\n",
    "d = {}\n",
    "add_to_dict(d, 8, 9)"
   ]
  },
  {
   "cell_type": "code",
   "execution_count": 31,
   "metadata": {},
   "outputs": [
    {
     "name": "stdout",
     "output_type": "stream",
     "text": [
      "Names Billiii and Zaini\n"
     ]
    }
   ],
   "source": [
    "def s(h, w):\n",
    "    print(\"Names \" + h + \" and \" + w)\n",
    "\n",
    "s(h=\"Billiii\", w =\"Zaini\")\n",
    "\n"
   ]
  },
  {
   "cell_type": "code",
   "execution_count": 29,
   "metadata": {},
   "outputs": [
    {
     "name": "stdout",
     "output_type": "stream",
     "text": [
      "Names Zaini and Billiii\n"
     ]
    }
   ],
   "source": [
    "def s(w, h):\n",
    "    print(\"Names \" + h + \" and \" + w)\n",
    "h=\"Billiii\"\n",
    "w =\"Zaini\"\n",
    "s(h, w)"
   ]
  },
  {
   "cell_type": "code",
   "execution_count": 33,
   "metadata": {},
   "outputs": [
    {
     "ename": "KeyError",
     "evalue": "0",
     "output_type": "error",
     "traceback": [
      "\u001b[1;31m---------------------------------------------------------------------------\u001b[0m",
      "\u001b[1;31mKeyError\u001b[0m                                  Traceback (most recent call last)",
      "\u001b[1;32m<ipython-input-33-049c7a8c75ef>\u001b[0m in \u001b[0;36m<module>\u001b[1;34m\u001b[0m\n\u001b[0;32m     13\u001b[0m }\n\u001b[0;32m     14\u001b[0m \u001b[1;31m# First code the function call on line 12.\u001b[0m\u001b[1;33m\u001b[0m\u001b[1;33m\u001b[0m\u001b[1;33m\u001b[0m\u001b[0m\n\u001b[1;32m---> 15\u001b[1;33m \u001b[0mvalues\u001b[0m\u001b[1;33m(\u001b[0m\u001b[0mmembers\u001b[0m\u001b[1;33m,\u001b[0m \u001b[0mt\u001b[0m \u001b[1;33m=\u001b[0m \u001b[0mmembers\u001b[0m\u001b[1;33m[\u001b[0m\u001b[1;36m0\u001b[0m\u001b[1;33m]\u001b[0m\u001b[1;33m,\u001b[0m \u001b[0mz\u001b[0m \u001b[1;33m=\u001b[0m \u001b[0mmembers\u001b[0m\u001b[1;33m[\u001b[0m\u001b[1;36m1\u001b[0m\u001b[1;33m]\u001b[0m\u001b[1;33m)\u001b[0m\u001b[1;33m\u001b[0m\u001b[1;33m\u001b[0m\u001b[0m\n\u001b[0m",
      "\u001b[1;31mKeyError\u001b[0m: 0"
     ]
    }
   ],
   "source": [
    "# First code the function call on line 12.\n",
    "# Then come back and code the function starting on line 4.\n",
    "# The function will take two or three lines, depending on how you approach it.\n",
    "\n",
    "def values(members, t, z ):\n",
    "    for i in members:\n",
    "        z = members[i]\n",
    "        print(z)\n",
    "\n",
    "members = {\n",
    "  \"adults\": [\"Ditmar\", \"Salvador\", \"Punya\"],\n",
    "  \"children\": [\"Caliban\", \"Eustis\", \"Ali\"],\n",
    "}\n",
    "# First code the function call on line 12.\n",
    "values(members, t = members[0], z = members[1])"
   ]
  },
  {
   "cell_type": "code",
   "execution_count": 58,
   "metadata": {},
   "outputs": [
    {
     "name": "stdout",
     "output_type": "stream",
     "text": [
      "Caliban\n"
     ]
    }
   ],
   "source": [
    "def get_name(dictionary, list_name, index_number):\n",
    "  target = (dictionary[list_name][index_number])\n",
    "  print(target)\n",
    "\n",
    "members = {\n",
    "  \"adults\": [\"Ditmar\", \"Salvador\", \"Punya\"],\n",
    "  \"children\": [\"Caliban\", \"Eustis\", \"Ali\"],\n",
    "}\n",
    "# First code the function call on line 12.\n",
    "#t = members[\"children\"][0]\n",
    "#print(t)\n",
    "get_name(dictionary = members, list_name = \"children\", index_number = 0)"
   ]
  },
  {
   "cell_type": "code",
   "execution_count": 62,
   "metadata": {},
   "outputs": [
    {
     "data": {
      "text/plain": [
       "3.6"
      ]
     },
     "execution_count": 62,
     "metadata": {},
     "output_type": "execute_result"
    }
   ],
   "source": [
    "def calc_tax(sales_total = 90, tax_rate=.04):\n",
    "    t = sales_total * tax_rate\n",
    "    return t\n",
    "    \n",
    "calc_tax()"
   ]
  },
  {
   "cell_type": "code",
   "execution_count": null,
   "metadata": {},
   "outputs": [],
   "source": []
  }
 ],
 "metadata": {
  "kernelspec": {
   "display_name": "Python 3",
   "language": "python",
   "name": "python3"
  },
  "language_info": {
   "codemirror_mode": {
    "name": "ipython",
    "version": 3
   },
   "file_extension": ".py",
   "mimetype": "text/x-python",
   "name": "python",
   "nbconvert_exporter": "python",
   "pygments_lexer": "ipython3",
   "version": "3.7.1"
  }
 },
 "nbformat": 4,
 "nbformat_minor": 2
}
