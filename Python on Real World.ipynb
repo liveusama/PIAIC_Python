{
 "cells": [
  {
   "cell_type": "markdown",
   "metadata": {},
   "source": [
    "# PYTHON \n",
    "## Python Implement on real life Problems\n"
   ]
  },
  {
   "cell_type": "raw",
   "metadata": {},
   "source": [
    "QUESTION 1:\n",
    "If someone gives u long lasting statement and u have to find specifc word."
   ]
  },
  {
   "cell_type": "code",
   "execution_count": 1,
   "metadata": {},
   "outputs": [
    {
     "name": "stdout",
     "output_type": "stream",
     "text": [
      "muhammad.usama.hameed\n"
     ]
    }
   ],
   "source": [
    "word = 'e Department of Defense, Washington@muhammad.usama.hameed He of ormation of -collec of tions'\n",
    "\n",
    "f = word.find('@')\n",
    "s = word.find(' ',f)\n",
    "\n",
    "h = word[f+1:s]\n",
    "print(h)"
   ]
  },
  {
   "cell_type": "raw",
   "metadata": {},
   "source": [
    "QUESTION 2:\n",
    "Write code using find() and string slicing (see section 6.10) to extract \n",
    "the number at the end of the line below. \n",
    "Convert the extracted value to a floating point number and print it out.    "
   ]
  },
  {
   "cell_type": "code",
   "execution_count": 2,
   "metadata": {},
   "outputs": [
    {
     "name": "stdout",
     "output_type": "stream",
     "text": [
      "0.8475\n"
     ]
    }
   ],
   "source": [
    "text = \"X-DSPAM-Confidence:    0.8475\";\n",
    "\n",
    "s = text.find('0')\n",
    "y = int(text.find('5'))\n",
    "h = text[s:y+1]\n",
    "float(h)\n",
    "print(h)"
   ]
  },
  {
   "cell_type": "raw",
   "metadata": {},
   "source": [
    "QUESTION NO 3:\n",
    "# invalid dictionary - this should break\n",
    "room_numbers = {\n",
    "    ['Freddie', 'Jen']: 403,\n",
    "    ['Ned', 'Keith']: 391,\n",
    "    ['Kristin', 'Jazzmyne']: 411,\n",
    "    ['Eugene', 'Zach']: 395\n",
    "}"
   ]
  },
  {
   "cell_type": "code",
   "execution_count": 1,
   "metadata": {},
   "outputs": [
    {
     "name": "stdout",
     "output_type": "stream",
     "text": [
      "{('Freddie', 'Jen'): 403, ('Ned', 'Keith'): 391, ('Kristin', 'Jazzmyne'): 411, ('Eugene', 'Zach'): 395}\n"
     ]
    }
   ],
   "source": [
    "room_numbers = {\n",
    "    ('Freddie', 'Jen'): 403,\n",
    "    ('Ned', 'Keith'): 391,\n",
    "    ('Kristin', 'Jazzmyne'): 411,\n",
    "    ('Eugene', 'Zach'): 395\n",
    "}\n",
    "print(room_numbers)"
   ]
  },
  {
   "cell_type": "code",
   "execution_count": null,
   "metadata": {},
   "outputs": [],
   "source": []
  }
 ],
 "metadata": {
  "kernelspec": {
   "display_name": "Python 3",
   "language": "python",
   "name": "python3"
  },
  "language_info": {
   "codemirror_mode": {
    "name": "ipython",
    "version": 3
   },
   "file_extension": ".py",
   "mimetype": "text/x-python",
   "name": "python",
   "nbconvert_exporter": "python",
   "pygments_lexer": "ipython3",
   "version": "3.7.1"
  }
 },
 "nbformat": 4,
 "nbformat_minor": 2
}
