{
 "cells": [
  {
   "cell_type": "markdown",
   "metadata": {},
   "source": [
    "## Python DataTask"
   ]
  },
  {
   "cell_type": "code",
   "execution_count": 39,
   "metadata": {},
   "outputs": [],
   "source": [
    "import math\n",
    "import statistics\n",
    "import matplotlib.pyplot as plt"
   ]
  },
  {
   "cell_type": "code",
   "execution_count": 1,
   "metadata": {},
   "outputs": [],
   "source": [
    "college = [\n",
    "    6.8, 7.07, 7.42, 7.99, 8.83, 8.65, 8.85,\n",
    "    8.79, 9.04, 9.46, 9.65, 9.7, 9.68, 9.48, \n",
    "    9.48, 9.71, 9.97, 10.16, 10.58, 10.84,\n",
    "    11.31, 11.38, 11.19, 11.13, 11.09, 11.13, \n",
    "    11.2, 11.14, 11.38, 11.75, 12.23, 12.75, 12.86, \n",
    "    12.98, 13.02, 13.18, 13.49, 13.97, 14.81, 15.14,\n",
    "    15.12, 14.88, 14.75, 14.65, 14.57, 14.56]\n"
   ]
  },
  {
   "cell_type": "code",
   "execution_count": 3,
   "metadata": {},
   "outputs": [
    {
     "data": {
      "text/plain": [
       "11"
      ]
     },
     "execution_count": 3,
     "metadata": {},
     "output_type": "execute_result"
    }
   ],
   "source": [
    "def median(college):\n",
    "    \"\"\" Calculates the median of a list of numbers.\n",
    "The list must not be empty.\n",
    "\"\"\"\n",
    "\n",
    "    number_of_values = len(college)\n",
    "    sorted_list = sorted(college)\n",
    "\n",
    "    # Two cases, depending on whether the number of values is odd or even.\n",
    "    quotient = number_of_values // 2\n",
    "    remainder = number_of_values % 2\n",
    " \n",
    "    if (remainder == 1):\n",
    "        result = sorted_list[quotient]\n",
    "        print(\"{0:.2f}\".format(round(a,2)))\n",
    "    else:\n",
    "        result = (sorted_list[quotient - 1] + sorted_list[quotient]) / 2\n",
    "    return result\n",
    "\n",
    "\n",
    "round(median(college))\n"
   ]
  },
  {
   "cell_type": "code",
   "execution_count": 4,
   "metadata": {},
   "outputs": [],
   "source": [
    "oil = [\n",
    "    1.7, 1.82, 2.7, 11.0, 10.43, 11.6, \n",
    "    12.5, 12.79, 29.19, 35.52, 34.0, 32.38, \n",
    "    29.04, 28.2, 27.01, 13.53, 17.73, 14.24, \n",
    "    17.31, 22.26, 18.62, 18.44, 16.33, 15.53, \n",
    "    16.86, 20.29, 18.86, 12.28, 17.44, 27.6, \n",
    "    23.12, 24.36, 28.1, 36.05, 50.59, 61.0, 69.04,\n",
    "    94.1, 60.86, 77.38, 107.46, 109.45,\n",
    "    105.87, 96.29, 49.49, 40.68]\n"
   ]
  },
  {
   "cell_type": "code",
   "execution_count": 40,
   "metadata": {},
   "outputs": [
    {
     "data": {
      "image/png": "[encoded data removed]",
      "text/plain": [
       "<Figure size 432x288 with 1 Axes>"
      ]
     },
     "metadata": {
      "needs_background": "light"
     },
     "output_type": "display_data"
    }
   ],
   "source": [
    "plt.scatter(college, oil)\n",
    "plt.title(\"Axes Aren't Comparable\")\n",
    "plt.xlabel(\"college\")\n",
    "plt.ylabel(\"oil\")\n",
    "plt.show()\n"
   ]
  },
  {
   "cell_type": "code",
   "execution_count": 10,
   "metadata": {},
   "outputs": [
    {
     "data": {
      "text/plain": [
       "11"
      ]
     },
     "execution_count": 10,
     "metadata": {},
     "output_type": "execute_result"
    }
   ],
   "source": [
    "def mean(list):\n",
    "    \"\"\"Return mean of list\"\"\"\n",
    "    sum = 0\n",
    "    count = 0\n",
    "    for item in list:\n",
    "        sum = sum + item\n",
    "        count = count + 1\n",
    "    return sum / count\n",
    "\n",
    "round(mean(college))"
   ]
  },
  {
   "cell_type": "code",
   "execution_count": 11,
   "metadata": {},
   "outputs": [
    {
     "data": {
      "text/plain": [
       "34"
      ]
     },
     "execution_count": 11,
     "metadata": {},
     "output_type": "execute_result"
    }
   ],
   "source": [
    "def mean(list):\n",
    "    \"\"\"Return mean of list\"\"\"\n",
    "    sum = 0\n",
    "    count = 0\n",
    "    for item in list:\n",
    "        sum = sum + item\n",
    "        count = count + 1\n",
    "    return sum / count\n",
    "\n",
    "round(mean(oil))"
   ]
  },
  {
   "cell_type": "code",
   "execution_count": 27,
   "metadata": {},
   "outputs": [
    {
     "data": {
      "text/plain": [
       "1"
      ]
     },
     "execution_count": 27,
     "metadata": {},
     "output_type": "execute_result"
    }
   ],
   "source": [
    "def corr_coef(x, y):\n",
    "    x_bar = mean(college)\n",
    "    y_bar = mean(oil)\n",
    "    sxy = 0\n",
    "    sxx = 0\n",
    "    syy = 0\n",
    "    for index in range(len(college)):\n",
    "        x = college[index]\n",
    "        y = oil[index]\n",
    "        sxy = sxy + (x - x_bar) * (y - y_bar)\n",
    "        sxx = sxx + (x - x_bar) * (x - x_bar)\n",
    "        syy = syy + (y - y_bar) * (y - y_bar)\n",
    "    return sxy / math.sqrt(sxx * syy)\n",
    "    \n",
    "    \n",
    "round(corr_coef(college, oil))"
   ]
  },
  {
   "cell_type": "code",
   "execution_count": 37,
   "metadata": {},
   "outputs": [
    {
     "name": "stdout",
     "output_type": "stream",
     "text": [
      "tests passed\n"
     ]
    }
   ],
   "source": [
    "# TM112_19J_TMA02_Q4_OUCU.py\n",
    "\n",
    "\n",
    "def total_weight(width_tile, length_tile, number_of_tiles):\n",
    "    \"\"\"Given the dimensions of a tile (width and length in cm) and the number of tiles ordered, calculate total weight of the tiles that have been ordered.\"\"\"\n",
    "   \n",
    "    # INSERT YOUR CODE BELOW FOR CALCULATING THE \n",
    "    # TOTAL WEIGHT AND RETURNING THE RESULT (DO NOT CHANGE\n",
    "    # THE HEADER OF THE FUNCTION WHICH HAS BEEN PROVIDED FOR YOU\n",
    "    # ABOVE)\n",
    "    r = ((width_tile * length_tile) * (number_of_tiles *10))\n",
    "    return r\n",
    "    \n",
    "\n",
    "\n",
    "# DO NOT CHANGE THE CODE BELOW \n",
    "# The code below automatically tests your function\n",
    "# following the approach described in \n",
    "# Block 2 Part 4 (Page 207 and further).\n",
    "# Before you make any changes to this file, \n",
    "# when you run it, you will get an AssertionError. \n",
    "# Once you have completed the file with correct\n",
    "# code, the AssertionError should no longer appear and\n",
    "# message \"tests passed\" will appear in the shell.\n",
    "\n",
    "\n",
    "def test_total_weight():\n",
    "    \"Test the total_weight() function.\"\n",
    "    # Test for tile with dimensions 20, 20 and \n",
    "    # order of 30 tiles\n",
    "    assert total_weight(20, 20, 30) == 120000\n",
    "    \n",
    "    # Test for tile with dimensions 1, 1 and \n",
    "    # order of 1 tile\n",
    "    assert total_weight(1, 1, 1) == 10\n",
    "    \n",
    "    # Test for tile with dimensions 10, 0 and \n",
    "    # order of 10 tiles\n",
    "    assert total_weight(10, 0, 10) == 0\n",
    "\n",
    "    # Test for tile with dimensions 0, 10 and \n",
    "    # order of 15 tiles\n",
    "    assert total_weight(0, 10, 15) == 0\n",
    "    \n",
    "    # Test for brick with dimensions 1, 1 and \n",
    "    # order of 0 tiles\n",
    "    assert total_weight(1, 1, 0) == 0\n",
    "    \n",
    "    print (\"tests passed\") \n",
    " \n",
    " \n",
    "test_total_weight()\n",
    "    \n"
   ]
  },
  {
   "cell_type": "code",
   "execution_count": null,
   "metadata": {},
   "outputs": [],
   "source": []
  }
 ],
 "metadata": {
  "kernelspec": {
   "display_name": "Python 3",
   "language": "python",
   "name": "python3"
  },
  "language_info": {
   "codemirror_mode": {
    "name": "ipython",
    "version": 3
   },
   "file_extension": ".py",
   "mimetype": "text/x-python",
   "name": "python",
   "nbconvert_exporter": "python",
   "pygments_lexer": "ipython3",
   "version": "3.7.1"
  }
 },
 "nbformat": 4,
 "nbformat_minor": 2
}
