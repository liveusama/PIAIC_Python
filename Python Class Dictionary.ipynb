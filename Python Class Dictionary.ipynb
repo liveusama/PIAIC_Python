{
 "cells": [
  {
   "cell_type": "code",
   "execution_count": 22,
   "metadata": {},
   "outputs": [
    {
     "name": "stdout",
     "output_type": "stream",
     "text": [
      "None\n",
      "['usama', 'hamza', 'umer']\n"
     ]
    }
   ],
   "source": [
    "names = [\"usama\", \"hamza\", \"ali\", \"umer\"]\n",
    "lists = names.remove(\"ali\")\n",
    "print(lists)\n",
    "print(names)"
   ]
  },
  {
   "cell_type": "code",
   "execution_count": 24,
   "metadata": {},
   "outputs": [
    {
     "name": "stdout",
     "output_type": "stream",
     "text": [
      "usama14\n"
     ]
    }
   ],
   "source": [
    "\n",
    "x = 14\n",
    "x = str(x)\n",
    "print(\"usama\" + x)"
   ]
  },
  {
   "cell_type": "code",
   "execution_count": 26,
   "metadata": {},
   "outputs": [
    {
     "name": "stdout",
     "output_type": "stream",
     "text": [
      "ABC\n"
     ]
    }
   ],
   "source": [
    "cap = \"abc\".upper()\n",
    "print(cap)"
   ]
  },
  {
   "cell_type": "code",
   "execution_count": 27,
   "metadata": {},
   "outputs": [
    {
     "name": "stdout",
     "output_type": "stream",
     "text": [
      "Robin Hood\n"
     ]
    }
   ],
   "source": [
    "a = \"robin hood\".title()\n",
    "print(a)"
   ]
  },
  {
   "cell_type": "markdown",
   "metadata": {},
   "source": [
    "## Dictionary"
   ]
  },
  {
   "cell_type": "code",
   "execution_count": null,
   "metadata": {},
   "outputs": [],
   "source": [
    "# item = key: value,\n",
    "# var_name = {\n",
    "# key: value,\n",
    "# key: value,\n",
    "# key: value,.....\n",
    "# }"
   ]
  },
  {
   "cell_type": "code",
   "execution_count": 1,
   "metadata": {},
   "outputs": [
    {
     "name": "stdout",
     "output_type": "stream",
     "text": [
      "{'id': '099', 'name': 'Usama', 'course': 'AI'}\n"
     ]
    }
   ],
   "source": [
    "d1 = {\n",
    "    \"id\": \"099\",\n",
    "    \"id\": \"100\", #if enter same \n",
    "    \"name\": \"Usama\",\n",
    "    \"course\": \"AI\",\n",
    "\n",
    "}\n",
    "\n",
    "print(d1)"
   ]
  },
  {
   "cell_type": "code",
   "execution_count": 2,
   "metadata": {},
   "outputs": [
    {
     "name": "stdout",
     "output_type": "stream",
     "text": [
      "{'id': 10, 'name': 'USAMA', 'course': 'Python'}\n"
     ]
    }
   ],
   "source": [
    "d1 = {}\n",
    "d1[\"id\"] = 10\n",
    "d1[\"name\"] = \"USAMA\"\n",
    "d1[\"course\"] = \"Python\"\n",
    "print(d1)"
   ]
  },
  {
   "cell_type": "code",
   "execution_count": null,
   "metadata": {},
   "outputs": [],
   "source": [
    "l1 = ['', '', '', '']"
   ]
  },
  {
   "cell_type": "code",
   "execution_count": 6,
   "metadata": {},
   "outputs": [
    {
     "name": "stdout",
     "output_type": "stream",
     "text": [
      "Enter nameuuu\n",
      "Enter classeee\n",
      "['uuu', 'eee']\n"
     ]
    },
    {
     "data": {
      "text/plain": [
       "{'uuu': None, 'eee': None}"
      ]
     },
     "execution_count": 6,
     "metadata": {},
     "output_type": "execute_result"
    }
   ],
   "source": [
    "name = input(\"Enter name\")\n",
    "clas = input(\"Enter class\")\n",
    "\n",
    "l1 = []\n",
    "l1.append(name)\n",
    "l1.append(clas)\n",
    "print(l1)\n",
    "dict.fromkeys(l1)\n"
   ]
  },
  {
   "cell_type": "code",
   "execution_count": 11,
   "metadata": {},
   "outputs": [
    {
     "name": "stdout",
     "output_type": "stream",
     "text": [
      "Enter keyee\n",
      "Enter valuee\n"
     ]
    },
    {
     "data": {
      "text/plain": [
       "{'ee': 'e'}"
      ]
     },
     "execution_count": 11,
     "metadata": {},
     "output_type": "execute_result"
    }
   ],
   "source": [
    "l1 = input(\"Enter key\").split(\",\")\n",
    "l2 = input(\"Enter value\")\n",
    "dict.fromkeys(l1, l2)"
   ]
  },
  {
   "cell_type": "code",
   "execution_count": 2,
   "metadata": {},
   "outputs": [
    {
     "name": "stdout",
     "output_type": "stream",
     "text": [
      "Enter keyee\n",
      "Enter valuerr,tt,yy\n"
     ]
    },
    {
     "data": {
      "text/plain": [
       "{'ee': ['rr', 'tt', 'yy']}"
      ]
     },
     "execution_count": 2,
     "metadata": {},
     "output_type": "execute_result"
    }
   ],
   "source": [
    "l1 = input(\"Enter key\").split(\",\")\n",
    "l2 = input(\"Enter value\").split(\",\")\n",
    "dict.fromkeys(l1, l2)"
   ]
  },
  {
   "cell_type": "code",
   "execution_count": null,
   "metadata": {},
   "outputs": [],
   "source": [
    "l1 = input(\"Enter key\").split(\",\")\n",
    "print(l1)"
   ]
  },
  {
   "cell_type": "code",
   "execution_count": 7,
   "metadata": {},
   "outputs": [
    {
     "ename": "TypeError",
     "evalue": "descriptor 'append' requires a 'list' object but received a 'int'",
     "output_type": "error",
     "traceback": [
      "\u001b[1;31m---------------------------------------------------------------------------\u001b[0m",
      "\u001b[1;31mTypeError\u001b[0m                                 Traceback (most recent call last)",
      "\u001b[1;32m<ipython-input-7-ed8acdc34d3d>\u001b[0m in \u001b[0;36m<module>\u001b[1;34m\u001b[0m\n\u001b[0;32m      1\u001b[0m \u001b[1;31m# a = [int(i) for i in range(1,29)]\u001b[0m\u001b[1;33m\u001b[0m\u001b[1;33m\u001b[0m\u001b[1;33m\u001b[0m\u001b[0m\n\u001b[0;32m      2\u001b[0m \u001b[1;32mfor\u001b[0m \u001b[0mi\u001b[0m \u001b[1;32min\u001b[0m \u001b[0mrange\u001b[0m\u001b[1;33m(\u001b[0m\u001b[1;36m1\u001b[0m\u001b[1;33m,\u001b[0m \u001b[1;36m29\u001b[0m\u001b[1;33m)\u001b[0m\u001b[1;33m:\u001b[0m\u001b[1;33m\u001b[0m\u001b[1;33m\u001b[0m\u001b[0m\n\u001b[1;32m----> 3\u001b[1;33m     \u001b[0mlist\u001b[0m\u001b[1;33m.\u001b[0m\u001b[0mappend\u001b[0m\u001b[1;33m(\u001b[0m\u001b[0mi\u001b[0m\u001b[1;33m)\u001b[0m\u001b[1;33m\u001b[0m\u001b[1;33m\u001b[0m\u001b[0m\n\u001b[0m\u001b[0;32m      4\u001b[0m     \u001b[0mprint\u001b[0m\u001b[1;33m(\u001b[0m\u001b[0mi\u001b[0m\u001b[1;33m)\u001b[0m\u001b[1;33m\u001b[0m\u001b[1;33m\u001b[0m\u001b[0m\n\u001b[0;32m      5\u001b[0m \u001b[1;33m\u001b[0m\u001b[0m\n",
      "\u001b[1;31mTypeError\u001b[0m: descriptor 'append' requires a 'list' object but received a 'int'"
     ]
    }
   ],
   "source": [
    "# a = [int(i) for i in range(1,29)]\n",
    "for i in range(1, 29):\n",
    "\n",
    "    print(i)\n",
    "\n",
    "#print(a)"
   ]
  },
  {
   "cell_type": "code",
   "execution_count": 30,
   "metadata": {},
   "outputs": [],
   "source": [
    "a = [chr(i) for i in range(65, 91)]\n",
    "b = [chr(i) for i in range(97, 122)]\n",
    "c = [chr(i) for i in range(48, 57)]\n",
    "d = zip(a, sorted(b, reverse=True),c)\n"
   ]
  },
  {
   "cell_type": "code",
   "execution_count": 27,
   "metadata": {},
   "outputs": [
    {
     "name": "stdout",
     "output_type": "stream",
     "text": [
      "a: 56\n",
      "b: 12\n",
      "c: 2\n"
     ]
    }
   ],
   "source": [
    "key_value ={}  \n",
    "key_value[\"a\"] = 56       \n",
    "key_value[\"c\"] = 2 \n",
    "key_value[\"b\"] = 12 \n",
    "    \n",
    "for i in sorted (key_value) : \n",
    "    print (\"%s: %s\" % (i, key_value[i]))\n"
   ]
  },
  {
   "cell_type": "code",
   "execution_count": 25,
   "metadata": {},
   "outputs": [
    {
     "name": "stdout",
     "output_type": "stream",
     "text": [
      "alan: 2\n",
      "bob: 1\n",
      "carl: 40\n",
      "danny: 3\n"
     ]
    }
   ],
   "source": [
    "mydict = {\n",
    "    \"carl\": 40,\n",
    "    \"alan\": 2,\n",
    "    \"bob\": 1,\n",
    "    \"danny\": 3,\n",
    "}\n",
    "\n",
    "for key in sorted(mydict.keys()):\n",
    "    print(\"%s: %s\" % (key, mydict[key]))\n",
    "   \n",
    "    mydict.keys()\n",
    "    "
   ]
  },
  {
   "cell_type": "code",
   "execution_count": 34,
   "metadata": {},
   "outputs": [
    {
     "name": "stdout",
     "output_type": "stream",
     "text": [
      "<zip object at 0x000001EF3BB1B588>\n"
     ]
    }
   ],
   "source": [
    "a = [chr(i) for i in range(65, 91)]\n",
    "b = [chr(i) for i in range(97, 122)]\n",
    "c = [chr(i) for i in range(48, 57)]\n",
    "d = zip(a, sorted(b, reverse=True),c)\n",
    "print(d)"
   ]
  },
  {
   "cell_type": "code",
   "execution_count": 43,
   "metadata": {},
   "outputs": [
    {
     "data": {
      "text/plain": [
       "{'bob': 1, 'alan': 2, 'danny': 3, 'carl': 40}"
      ]
     },
     "execution_count": 43,
     "metadata": {},
     "output_type": "execute_result"
    }
   ],
   "source": [
    "mydict = {\n",
    "    \"carl\": 40,\n",
    "    \"alan\": 2,\n",
    "    \"bob\": 1,\n",
    "    \"danny\": 3,\n",
    "}\n",
    "\n",
    "{k:v for k,v in sorted(mydict.items(),key=lambda x:x[1])}"
   ]
  },
  {
   "cell_type": "code",
   "execution_count": null,
   "metadata": {},
   "outputs": [],
   "source": [
    "dict={}\n",
    "while True:\n",
    "    data =input(\"Enter data Y/N\")\n",
    "    if data==\"Y\":\n",
    "        dict[\"NAME\"]=input(\"Name\")\n",
    "        dict[\"ID\"]=input(\"ID\")\n",
    "        dict[\"Skills\"] = input(\"Skills\").split(\",\")\n",
    "    else:\n",
    "        break\n",
    "           "
   ]
  },
  {
   "cell_type": "code",
   "execution_count": null,
   "metadata": {},
   "outputs": [],
   "source": [
    "dict={}\n",
    "while True:\n",
    "    data =input(\"Enter data Y/N\")\n",
    "    if data==\"Y\":\n",
    "        dict[\"NAME\"]=input(\"Name\")\n",
    "        dict[\"ID\"]=input(\"ID\")\n",
    "        dict[\"Skills\"] = input(\"Skills\").split(\",\")\n",
    "    else:\n",
    "        print(dict) \n",
    "        break\n",
    "     "
   ]
  },
  {
   "cell_type": "code",
   "execution_count": null,
   "metadata": {},
   "outputs": [],
   "source": []
  }
 ],
 "metadata": {
  "kernelspec": {
   "display_name": "Python 3",
   "language": "python",
   "name": "python3"
  },
  "language_info": {
   "codemirror_mode": {
    "name": "ipython",
    "version": 3
   },
   "file_extension": ".py",
   "mimetype": "text/x-python",
   "name": "python",
   "nbconvert_exporter": "python",
   "pygments_lexer": "ipython3",
   "version": "3.7.1"
  }
 },
 "nbformat": 4,
 "nbformat_minor": 2
}
