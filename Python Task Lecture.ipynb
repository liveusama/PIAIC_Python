{
 "cells": [
  {
   "cell_type": "code",
   "execution_count": null,
   "metadata": {},
   "outputs": [],
   "source": [
    "\n",
    "\n"
   ]
  },
  {
   "cell_type": "code",
   "execution_count": 16,
   "metadata": {},
   "outputs": [
    {
     "data": {
      "text/plain": [
       "['__class__',\n",
       " '__contains__',\n",
       " '__delattr__',\n",
       " '__delitem__',\n",
       " '__dir__',\n",
       " '__doc__',\n",
       " '__eq__',\n",
       " '__format__',\n",
       " '__ge__',\n",
       " '__getattribute__',\n",
       " '__getitem__',\n",
       " '__gt__',\n",
       " '__hash__',\n",
       " '__init__',\n",
       " '__init_subclass__',\n",
       " '__iter__',\n",
       " '__le__',\n",
       " '__len__',\n",
       " '__lt__',\n",
       " '__ne__',\n",
       " '__new__',\n",
       " '__reduce__',\n",
       " '__reduce_ex__',\n",
       " '__repr__',\n",
       " '__setattr__',\n",
       " '__setitem__',\n",
       " '__sizeof__',\n",
       " '__str__',\n",
       " '__subclasshook__',\n",
       " 'clear',\n",
       " 'copy',\n",
       " 'fromkeys',\n",
       " 'get',\n",
       " 'items',\n",
       " 'keys',\n",
       " 'pop',\n",
       " 'popitem',\n",
       " 'setdefault',\n",
       " 'update',\n",
       " 'values']"
      ]
     },
     "execution_count": 16,
     "metadata": {},
     "output_type": "execute_result"
    }
   ],
   "source": [
    "dir(dict)"
   ]
  },
  {
   "cell_type": "code",
   "execution_count": null,
   "metadata": {},
   "outputs": [],
   "source": [
    "marks = int(input(\"Enter a marks\"))\n",
    "if marks >= 90:\n",
    "    print(\"A\")\n",
    "    \n",
    "elif marks >= 80:\n",
    "    print(\"B\")\n",
    "    "
   ]
  },
  {
   "cell_type": "code",
   "execution_count": 1,
   "metadata": {},
   "outputs": [
    {
     "name": "stdout",
     "output_type": "stream",
     "text": [
      "DVD scrated: \n",
      " yes \n",
      " not \n",
      " yes\n",
      "Enter days: \n",
      " sunday \n",
      " thursday \n",
      " sunday\n",
      "Enter time = 8\n",
      "Have you Keep: \n",
      " yes \n",
      " no \n",
      " no\n",
      "Extra day = 1\n",
      " cost = 3.18\n"
     ]
    }
   ],
   "source": [
    "cost = 1.59\n",
    "eday = 0\n",
    "scrated = input(\"DVD scrated: \\n yes \\n not \\n \")\n",
    "days = input(\"Enter days: \\n sunday \\n thursday \\n \")\n",
    "time = int(input(\"Enter time = \"))\n",
    "keep = input(\"Have you Keep: \\n yes \\n no \\n \")\n",
    "\n",
    "if time >= 8:\n",
    "    eday += 1\n",
    "    cost +=1.59\n",
    "    print(\"Extra day = \" + str(eday) + \"\\n Total cost = \" +str(cost))\n",
    "    if (scrated == 'Yes'):\n",
    "        cost = cost + 1\n",
    "if days == 'sunday' and keep == 'yes':\n",
    "    off = (cost * 30)/100\n",
    "    cost = cost - off\n",
    "    print(\"30% off = \" + str(cost))\n",
    "    if (scrated == 'Yes'):\n",
    "          cost = cost + 2\n",
    "if days == 'thursday' and keep == 'yes':\n",
    "    off = (cost * 30)/100\n",
    "    cost = cost - off\n",
    "    print(\"50% off = \" + str(cost))\n"
   ]
  },
  {
   "cell_type": "code",
   "execution_count": 8,
   "metadata": {},
   "outputs": [
    {
     "name": "stdout",
     "output_type": "stream",
     "text": [
      "key\n"
     ]
    }
   ],
   "source": [
    "dic = {\n",
    "    \"Value\" : \"key\",  \n",
    "    \n",
    "}\n",
    "print(dic[\"Value\"])"
   ]
  },
  {
   "cell_type": "code",
   "execution_count": 11,
   "metadata": {},
   "outputs": [],
   "source": [
    "personalData = {\n",
    "    \"name \" : \"usama\",\n",
    "    \"age\" : 19,\n",
    "    \"university\" : \"COMSATS\",\n",
    "    \"rollno\":    \"FA17-BSE-099\",\n",
    "       \n",
    "}\n",
    "\n"
   ]
  },
  {
   "cell_type": "code",
   "execution_count": 12,
   "metadata": {},
   "outputs": [
    {
     "name": "stdout",
     "output_type": "stream",
     "text": [
      "{'name ': 'usama', 'age': 19, 'university': 'COMSATS', 'rollno': 'FA17-BSE-099', 'hobbies': ['a', 'b', 'c']}\n"
     ]
    }
   ],
   "source": [
    "\n",
    "hobbies = ['a', 'b', 'c']\n",
    "\n",
    "personalData['hobbies'] = hobbies\n",
    "print(personalData)"
   ]
  },
  {
   "cell_type": "code",
   "execution_count": 13,
   "metadata": {},
   "outputs": [
    {
     "name": "stdout",
     "output_type": "stream",
     "text": [
      "{'name ': 'usama', 'age': 19, 'university': 'COMSATS', 'rollno': 'FA17-BSE-099', 'hobbies': ['a', 'b', 'c'], 'experenice': 'python'}\n"
     ]
    }
   ],
   "source": [
    "personalData.update({\n",
    "    \"experenice\" : \"python\",\n",
    "    \n",
    "})\n",
    "print(personalData)"
   ]
  },
  {
   "cell_type": "code",
   "execution_count": 14,
   "metadata": {},
   "outputs": [
    {
     "name": "stdout",
     "output_type": "stream",
     "text": [
      "{'name ': 'usama', 'age': 19, 'university': 'COMSATS', 'rollno': 'FA17-BSE-099', 'hobbies': ['a', 'b', 'c'], 'experenice': 'python', 'workexperenice': {'title ': 'AI', 'skills': 'python'}}\n"
     ]
    }
   ],
   "source": [
    "workexperience =  {\n",
    "    \"title \" : \"AI\",\n",
    "    \"skills\" : \"python\",\n",
    "   \n",
    "       \n",
    "}\n",
    "personalData.update({\n",
    "    \"workexperenice\" : workexperience,\n",
    "    \n",
    "})\n",
    "print(personalData)"
   ]
  },
  {
   "cell_type": "code",
   "execution_count": 15,
   "metadata": {},
   "outputs": [
    {
     "name": "stdout",
     "output_type": "stream",
     "text": [
      "{'title ': 'AI', 'skills': 'python'}\n"
     ]
    }
   ],
   "source": [
    "print(personalData.get('workexperenice'))"
   ]
  },
  {
   "cell_type": "code",
   "execution_count": 17,
   "metadata": {},
   "outputs": [
    {
     "name": "stdout",
     "output_type": "stream",
     "text": [
      "AI\n"
     ]
    }
   ],
   "source": [
    "print(personalData['workexperenice']['title '])"
   ]
  },
  {
   "cell_type": "code",
   "execution_count": 1,
   "metadata": {},
   "outputs": [
    {
     "name": "stdout",
     "output_type": "stream",
     "text": [
      "Enter ID: usama\n",
      "Enter name: us\n",
      "Enter Skills: www eeee rrr ttt\n",
      "Enter x to quit /n Or Press any key to contiune: x\n"
     ]
    },
    {
     "data": {
      "text/plain": [
       "[{'id': 'usama', 'name': 'us', 'skills': ['www', 'eeee', 'rrr', 'ttt']}]"
      ]
     },
     "execution_count": 1,
     "metadata": {},
     "output_type": "execute_result"
    }
   ],
   "source": [
    "lst = []\n",
    "check = ''\n",
    "while check.lower() != 'x':\n",
    "    \n",
    "    dict1 = {\n",
    "        \"id\"  :input(\"Enter ID: \"),\n",
    "        \"name\" : input(\"Enter name: \"),\n",
    "        \"skills\" : input(\"Enter Skills: \").split(),\n",
    "    }\n",
    "    lst.append(dict1)\n",
    "    check = input(\"Enter x to quit /n Or Press any key to contiune: \")\n",
    "lst "
   ]
  },
  {
   "cell_type": "code",
   "execution_count": 5,
   "metadata": {},
   "outputs": [
    {
     "name": "stdout",
     "output_type": "stream",
     "text": [
      "Enter name: name\n",
      "Enter math: 777\n",
      "Enter chem: 88\n",
      "Enter Skills: ggg gggg ggg\n",
      "Enter x to quit /n Or Press any key to contiune: x\n"
     ]
    },
    {
     "data": {
      "text/plain": [
       "[{'name': 'name',\n",
       "  'marks': {'Math': '777', 'chem': '88'},\n",
       "  'skills': ['ggg', 'gggg', 'ggg']}]"
      ]
     },
     "execution_count": 5,
     "metadata": {},
     "output_type": "execute_result"
    }
   ],
   "source": [
    "lst = []\n",
    "check = ''\n",
    "while check.lower() != 'x':\n",
    "    \n",
    "    dict1 = {\n",
    "        \"name\"  :input(\"Enter name: \"),\n",
    "        \"marks\" :{        \n",
    "                     \"Math\" : input(\"Enter math: \"),\n",
    "                     \"chem\" : input(\"Enter chem: \"),\n",
    "                 },\n",
    "        \"skills\" : input(\"Enter Skills: \").split(\",\"),\n",
    "        \n",
    "    }\n",
    "    lst.append(dict1)\n",
    "    check = input(\"Enter x to quit /n Or Press any key to contiune: \")\n",
    "lst "
   ]
  },
  {
   "cell_type": "code",
   "execution_count": null,
   "metadata": {},
   "outputs": [],
   "source": []
  }
 ],
 "metadata": {
  "kernelspec": {
   "display_name": "Python 3",
   "language": "python",
   "name": "python3"
  },
  "language_info": {
   "codemirror_mode": {
    "name": "ipython",
    "version": 3
   },
   "file_extension": ".py",
   "mimetype": "text/x-python",
   "name": "python",
   "nbconvert_exporter": "python",
   "pygments_lexer": "ipython3",
   "version": "3.7.1"
  }
 },
 "nbformat": 4,
 "nbformat_minor": 2
}
